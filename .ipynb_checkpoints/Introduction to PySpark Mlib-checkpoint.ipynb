{
 "cells": [
  {
   "cell_type": "code",
   "execution_count": 18,
   "id": "ba7d8296-9642-4337-95c8-f391dc455a9e",
   "metadata": {},
   "outputs": [],
   "source": [
    "from pyspark.sql import SparkSession\n",
    "from pyspark.ml.feature import VectorAssembler\n",
    "from pyspark.ml.regression import LinearRegression"
   ]
  },
  {
   "cell_type": "code",
   "execution_count": 3,
   "id": "a1814cde-cc1a-4ef6-ae9c-36a616006879",
   "metadata": {},
   "outputs": [
    {
     "data": {
      "text/html": [
       "\n",
       "        <div>\n",
       "            <p><b>SparkContext</b></p>\n",
       "\n",
       "            <p><a href=\"http://ManishAcer.lan:4040\">Spark UI</a></p>\n",
       "\n",
       "            <dl>\n",
       "              <dt>Version</dt>\n",
       "                <dd><code>v3.5.0</code></dd>\n",
       "              <dt>Master</dt>\n",
       "                <dd><code>local[*]</code></dd>\n",
       "              <dt>AppName</dt>\n",
       "                <dd><code>Introduction to PySpark Mlib</code></dd>\n",
       "            </dl>\n",
       "        </div>\n",
       "        "
      ],
      "text/plain": [
       "<SparkContext master=local[*] appName=Introduction to PySpark Mlib>"
      ]
     },
     "execution_count": 3,
     "metadata": {},
     "output_type": "execute_result"
    }
   ],
   "source": [
    "spark = SparkSession.builder.appName('Introduction to PySpark Mlib').getOrCreate()\n",
    "spark.sparkContext"
   ]
  },
  {
   "cell_type": "code",
   "execution_count": 5,
   "id": "aa6baccb-8d7e-4276-bc68-d4d9b4c6185d",
   "metadata": {},
   "outputs": [
    {
     "name": "stdout",
     "output_type": "stream",
     "text": [
      "+---------+---+----------+------+\n",
      "|     Name|Age|Experience|Salary|\n",
      "+---------+---+----------+------+\n",
      "|    Krish| 31|        10| 30000|\n",
      "|Sudhanshu| 30|         8| 25000|\n",
      "|    Sunny| 29|         4| 20000|\n",
      "|     Paul| 24|         3| 20000|\n",
      "|   Harsha| 21|         1| 15000|\n",
      "|  Shubham| 23|         2| 18000|\n",
      "+---------+---+----------+------+\n",
      "\n"
     ]
    }
   ],
   "source": [
    "# Training\n",
    "train = spark.read.csv('test3.csv', header=True, inferSchema=True)\n",
    "train.show()"
   ]
  },
  {
   "cell_type": "code",
   "execution_count": 9,
   "id": "cf6333ab-9dbe-4161-8349-1fe2436d05fb",
   "metadata": {},
   "outputs": [
    {
     "name": "stdout",
     "output_type": "stream",
     "text": [
      "root\n",
      " |-- Name: string (nullable = true)\n",
      " |-- Age: integer (nullable = true)\n",
      " |-- Experience: integer (nullable = true)\n",
      " |-- Salary: integer (nullable = true)\n",
      "\n"
     ]
    },
    {
     "data": {
      "text/plain": [
       "(None, ['Name', 'Age', 'Experience', 'Salary'])"
      ]
     },
     "execution_count": 9,
     "metadata": {},
     "output_type": "execute_result"
    }
   ],
   "source": [
    "train.printSchema()"
   ]
  },
  {
   "cell_type": "code",
   "execution_count": 10,
   "id": "9f09bc76-b23c-4072-9a23-e4db0aeaf8a6",
   "metadata": {},
   "outputs": [
    {
     "data": {
      "text/plain": [
       "['Name', 'Age', 'Experience', 'Salary']"
      ]
     },
     "execution_count": 10,
     "metadata": {},
     "output_type": "execute_result"
    }
   ],
   "source": [
    "train.columns"
   ]
  },
  {
   "cell_type": "code",
   "execution_count": 14,
   "id": "9e21ea44-5f50-4963-a367-05b44768708b",
   "metadata": {},
   "outputs": [],
   "source": [
    "FeatureAssembler = VectorAssembler(inputCols=['Age', 'Experience'], outputCol='IndependentFeature')"
   ]
  },
  {
   "cell_type": "code",
   "execution_count": 15,
   "id": "69115951-43ab-4bc4-88ed-c995497c2181",
   "metadata": {},
   "outputs": [
    {
     "name": "stdout",
     "output_type": "stream",
     "text": [
      "+---------+---+----------+------+------------------+\n",
      "|     Name|Age|Experience|Salary|IndependentFeature|\n",
      "+---------+---+----------+------+------------------+\n",
      "|    Krish| 31|        10| 30000|       [31.0,10.0]|\n",
      "|Sudhanshu| 30|         8| 25000|        [30.0,8.0]|\n",
      "|    Sunny| 29|         4| 20000|        [29.0,4.0]|\n",
      "|     Paul| 24|         3| 20000|        [24.0,3.0]|\n",
      "|   Harsha| 21|         1| 15000|        [21.0,1.0]|\n",
      "|  Shubham| 23|         2| 18000|        [23.0,2.0]|\n",
      "+---------+---+----------+------+------------------+\n",
      "\n"
     ]
    }
   ],
   "source": [
    "output = FeatureAssembler.transform(train)\n",
    "output.show()"
   ]
  },
  {
   "cell_type": "code",
   "execution_count": 16,
   "id": "1e399cb1-9961-4938-b18d-5cb8dfa7a2de",
   "metadata": {},
   "outputs": [
    {
     "name": "stdout",
     "output_type": "stream",
     "text": [
      "+------+------------------+\n",
      "|Salary|IndependentFeature|\n",
      "+------+------------------+\n",
      "| 30000|       [31.0,10.0]|\n",
      "| 25000|        [30.0,8.0]|\n",
      "| 20000|        [29.0,4.0]|\n",
      "| 20000|        [24.0,3.0]|\n",
      "| 15000|        [21.0,1.0]|\n",
      "| 18000|        [23.0,2.0]|\n",
      "+------+------------------+\n",
      "\n"
     ]
    }
   ],
   "source": [
    "FinalizedData = output.select(['Salary','IndependentFeature'])\n",
    "FinalizedData.show()"
   ]
  },
  {
   "cell_type": "code",
   "execution_count": 20,
   "id": "a3c7d476-d88f-4cf4-bca5-1f113796ba28",
   "metadata": {},
   "outputs": [],
   "source": [
    "train_data, test_data = FinalizedData.randomSplit([.75,.25])"
   ]
  },
  {
   "cell_type": "code",
   "execution_count": null,
   "id": "78b960ea-e584-4503-a204-1147d49f771c",
   "metadata": {},
   "outputs": [],
   "source": []
  },
  {
   "cell_type": "code",
   "execution_count": null,
   "id": "b7741c7e-bc93-47e4-a265-15247c4a3183",
   "metadata": {},
   "outputs": [],
   "source": []
  },
  {
   "cell_type": "code",
   "execution_count": null,
   "id": "85f0a28c-f7c4-472a-8555-5376923308b8",
   "metadata": {},
   "outputs": [],
   "source": []
  }
 ],
 "metadata": {
  "kernelspec": {
   "display_name": "Python 3 (ipykernel)",
   "language": "python",
   "name": "python3"
  },
  "language_info": {
   "codemirror_mode": {
    "name": "ipython",
    "version": 3
   },
   "file_extension": ".py",
   "mimetype": "text/x-python",
   "name": "python",
   "nbconvert_exporter": "python",
   "pygments_lexer": "ipython3",
   "version": "3.12.0"
  }
 },
 "nbformat": 4,
 "nbformat_minor": 5
}
